{
 "cells": [
  {
   "cell_type": "markdown",
   "id": "equal-venue",
   "metadata": {},
   "source": [
    "# Min Max Normalization"
   ]
  },
  {
   "cell_type": "code",
   "execution_count": 19,
   "id": "italian-secondary",
   "metadata": {},
   "outputs": [],
   "source": [
    "import pandas as pd\n",
    "from sklearn import preprocessing\n"
   ]
  },
  {
   "cell_type": "code",
   "execution_count": 26,
   "id": "incorrect-expense",
   "metadata": {},
   "outputs": [
    {
     "name": "stdout",
     "output_type": "stream",
     "text": [
      "             Fp1        F3            F7        T3        T5            O1  \\\n",
      "0       0.000004  0.000005  3.860000e-06 -0.000010 -0.000009 -2.390000e-06   \n",
      "1       0.000003  0.000005  3.240000e-06 -0.000002 -0.000011 -2.620000e-06   \n",
      "2      -0.000005  0.000001  5.670000e-06 -0.000007 -0.000013 -4.540000e-07   \n",
      "3      -0.000016 -0.000005 -4.500000e-07 -0.000013 -0.000008  2.650000e-06   \n",
      "4      -0.000024 -0.000003 -1.100000e-05 -0.000001 -0.000003  2.670000e-06   \n",
      "...          ...       ...           ...       ...       ...           ...   \n",
      "599547 -0.000354 -0.000235 -1.830000e-04 -0.000198 -0.000219 -2.280000e-04   \n",
      "599548 -0.000354 -0.000235 -1.830000e-04 -0.000198 -0.000219 -2.280000e-04   \n",
      "599549 -0.000354 -0.000235 -1.830000e-04 -0.000198 -0.000219 -2.280000e-04   \n",
      "599550 -0.000354 -0.000235 -1.830000e-04 -0.000198 -0.000219 -2.280000e-04   \n",
      "599551 -0.000354 -0.000235 -1.830000e-04 -0.000198 -0.000219 -2.280000e-04   \n",
      "\n",
      "              C4  \n",
      "0      -0.000005  \n",
      "1      -0.000011  \n",
      "2      -0.000015  \n",
      "3      -0.000015  \n",
      "4      -0.000016  \n",
      "...          ...  \n",
      "599547 -0.000157  \n",
      "599548 -0.000157  \n",
      "599549 -0.000157  \n",
      "599550 -0.000157  \n",
      "599551 -0.000157  \n",
      "\n",
      "[599552 rows x 7 columns]\n"
     ]
    }
   ],
   "source": [
    "df = pd.read_csv('feature_files/merged-autism-raw.csv', keep_default_na=False, na_values=[\"\"])\n",
    "\n",
    "print(df) "
   ]
  },
  {
   "cell_type": "code",
   "execution_count": 21,
   "id": "large-variation",
   "metadata": {
    "scrolled": false
   },
   "outputs": [
    {
     "name": "stdout",
     "output_type": "stream",
     "text": [
      "               0         1         2         3         4         5         6\n",
      "0       0.522377  0.407020  0.511221  0.467724  0.502836  0.523301  0.447376\n",
      "1       0.522218  0.407093  0.511092  0.469672  0.502339  0.523239  0.446236\n",
      "2       0.521101  0.406125  0.511598  0.468475  0.501882  0.523815  0.445361\n",
      "3       0.519353  0.404762  0.510323  0.466965  0.503116  0.524641  0.445295\n",
      "4       0.518256  0.405134  0.508125  0.469881  0.504702  0.524646  0.445120\n",
      "...          ...       ...       ...       ...       ...       ...       ...\n",
      "599547  0.468571  0.352608  0.472292  0.420896  0.446505  0.463298  0.414223\n",
      "599548  0.468571  0.352608  0.472292  0.420896  0.446505  0.463298  0.414223\n",
      "599549  0.468571  0.352608  0.472292  0.420896  0.446505  0.463298  0.414223\n",
      "599550  0.468571  0.352608  0.472292  0.420896  0.446505  0.463298  0.414223\n",
      "599551  0.468571  0.352608  0.472292  0.420896  0.446505  0.463298  0.414223\n",
      "\n",
      "[599552 rows x 7 columns]\n"
     ]
    }
   ],
   "source": [
    "\n",
    "x = df.values #returns a numpy array\n",
    "min_max_scaler = preprocessing.MinMaxScaler()\n",
    "x_scaled = min_max_scaler.fit_transform(x)\n",
    "normalized_data_frame = pd.DataFrame(x_scaled)\n",
    "print(normalized_data_frame)"
   ]
  },
  {
   "cell_type": "code",
   "execution_count": 22,
   "id": "contemporary-africa",
   "metadata": {},
   "outputs": [],
   "source": [
    "normalized_data_frame.to_csv('feature_files/normalized_merged_autism.csv')"
   ]
  },
  {
   "cell_type": "code",
   "execution_count": 28,
   "id": "vietnamese-tyler",
   "metadata": {},
   "outputs": [
    {
     "name": "stdout",
     "output_type": "stream",
     "text": [
      "             Fp1            F3            F7        T3        T5        O1  \\\n",
      "0      -0.000005  9.450000e-07  3.200000e-06  0.000004  0.000001  0.000002   \n",
      "1      -0.000004 -2.310000e-06  5.120000e-06  0.000003 -0.000001 -0.000001   \n",
      "2      -0.000011 -6.030000e-06  3.320000e-06  0.000004  0.000003  0.000002   \n",
      "3      -0.000017 -6.350000e-06 -1.870000e-07  0.000007  0.000009  0.000009   \n",
      "4      -0.000014 -6.120000e-06  3.230000e-07  0.000009  0.000009  0.000010   \n",
      "...          ...           ...           ...       ...       ...       ...   \n",
      "417531 -0.000101 -3.920000e-05 -9.820000e-05 -0.000084 -0.000053 -0.000091   \n",
      "417532 -0.000101 -3.920000e-05 -9.820000e-05 -0.000084 -0.000053 -0.000091   \n",
      "417533 -0.000101 -3.920000e-05 -9.820000e-05 -0.000084 -0.000053 -0.000091   \n",
      "417534 -0.000101 -3.920000e-05 -9.820000e-05 -0.000084 -0.000053 -0.000091   \n",
      "417535 -0.000101 -3.920000e-05 -9.820000e-05 -0.000084 -0.000053 -0.000091   \n",
      "\n",
      "                  C4  \n",
      "0      -1.060000e-07  \n",
      "1       5.220000e-07  \n",
      "2       3.230000e-07  \n",
      "3      -2.960000e-08  \n",
      "4       2.470000e-07  \n",
      "...              ...  \n",
      "417531 -6.200000e-05  \n",
      "417532 -6.200000e-05  \n",
      "417533 -6.200000e-05  \n",
      "417534 -6.200000e-05  \n",
      "417535 -6.200000e-05  \n",
      "\n",
      "[417536 rows x 7 columns]\n"
     ]
    }
   ],
   "source": [
    "df2 = pd.read_csv('feature_files/merged-normal-raw.csv', keep_default_na=False, na_values=[\"\"])\n",
    "print(df2) "
   ]
  },
  {
   "cell_type": "code",
   "execution_count": 29,
   "id": "crucial-peripheral",
   "metadata": {},
   "outputs": [
    {
     "name": "stdout",
     "output_type": "stream",
     "text": [
      "               0         1         2         3         4         5         6\n",
      "0       0.479505  0.823736  0.505324  0.522786  0.504790  0.502587  0.385726\n",
      "1       0.480316  0.820011  0.508086  0.520821  0.487508  0.499314  0.388539\n",
      "2       0.475412  0.815755  0.505496  0.522743  0.513204  0.502672  0.387648\n",
      "3       0.471016  0.815389  0.500450  0.530000  0.554304  0.509673  0.386068\n",
      "4       0.473008  0.815652  0.501184  0.533240  0.555081  0.511193  0.387307\n",
      "...          ...       ...       ...       ...       ...       ...       ...\n",
      "417531  0.413462  0.777803  0.359424  0.332613  0.150162  0.404013  0.108423\n",
      "417532  0.413462  0.777803  0.359424  0.332613  0.150162  0.404013  0.108423\n",
      "417533  0.413462  0.777803  0.359424  0.332613  0.150162  0.404013  0.108423\n",
      "417534  0.413462  0.777803  0.359424  0.332613  0.150162  0.404013  0.108423\n",
      "417535  0.413462  0.777803  0.359424  0.332613  0.150162  0.404013  0.108423\n",
      "\n",
      "[417536 rows x 7 columns]\n"
     ]
    }
   ],
   "source": [
    "\n",
    "x2 = df2.values #returns a numpy array\n",
    "min_max_scaler2 = preprocessing.MinMaxScaler()\n",
    "x_scaled2 = min_max_scaler2.fit_transform(x2)\n",
    "normalized_data_frame2 = pd.DataFrame(x_scaled2)\n",
    "print(normalized_data_frame2)"
   ]
  },
  {
   "cell_type": "code",
   "execution_count": 31,
   "id": "tracked-melbourne",
   "metadata": {},
   "outputs": [],
   "source": [
    "normalized_data_frame2.to_csv('feature_files/normalized_merged_normal.csv')"
   ]
  },
  {
   "cell_type": "code",
   "execution_count": null,
   "id": "paperback-junior",
   "metadata": {},
   "outputs": [],
   "source": []
  }
 ],
 "metadata": {
  "kernelspec": {
   "display_name": "Python 3",
   "language": "python",
   "name": "python3"
  },
  "language_info": {
   "codemirror_mode": {
    "name": "ipython",
    "version": 3
   },
   "file_extension": ".py",
   "mimetype": "text/x-python",
   "name": "python",
   "nbconvert_exporter": "python",
   "pygments_lexer": "ipython3",
   "version": "3.6.12"
  }
 },
 "nbformat": 4,
 "nbformat_minor": 5
}
