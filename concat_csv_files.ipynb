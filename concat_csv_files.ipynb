{
 "cells": [
  {
   "cell_type": "code",
   "execution_count": 11,
   "id": "unable-claim",
   "metadata": {},
   "outputs": [],
   "source": [
    "import os\n",
    "import glob\n",
    "import pandas as pd\n",
    "os.chdir(\"C:/Users/lloll/OneDrive/Desktop/ASD detection/feature_files/normal_feature_files\")"
   ]
  },
  {
   "cell_type": "code",
   "execution_count": 2,
   "id": "conditional-wound",
   "metadata": {},
   "outputs": [
    {
     "name": "stdout",
     "output_type": "stream",
     "text": [
      "['entropy_normalized_merged_normal.csv', 'kurtosis_normalized_merged_normal.csv', 'mean_normalized_merged_normal.csv', 'skewness_normalized_merged_normal.csv', 'standard_deviation_normalized_merged_normal.csv', 'variance_normalized_merged_normal.csv']\n"
     ]
    }
   ],
   "source": [
    "extension = 'csv'\n",
    "all_filenames = [i for i in glob.glob('*.{}'.format(extension))]\n",
    "print(all_filenames)"
   ]
  },
  {
   "cell_type": "code",
   "execution_count": 3,
   "id": "supreme-contributor",
   "metadata": {},
   "outputs": [],
   "source": [
    "combined_csv = pd.concat([pd.read_csv(f) for f in all_filenames ], axis = 1)\n",
    "#export to csv\n",
    "combined_csv.to_csv( \"final__.csv\", index=False, encoding='utf-8-sig')"
   ]
  },
  {
   "cell_type": "code",
   "execution_count": null,
   "id": "european-muscle",
   "metadata": {},
   "outputs": [],
   "source": []
  },
  {
   "cell_type": "code",
   "execution_count": 15,
   "id": "spectacular-runner",
   "metadata": {},
   "outputs": [],
   "source": [
    "import os\n",
    "import glob\n",
    "import pandas as pd\n",
    "os.chdir(\"C:/Users/lloll/OneDrive/Desktop/ASD detection/feature_files/autism_feature_files\")"
   ]
  },
  {
   "cell_type": "code",
   "execution_count": 16,
   "id": "entertaining-pencil",
   "metadata": {},
   "outputs": [
    {
     "name": "stdout",
     "output_type": "stream",
     "text": [
      "['entropy_normalized_merged_autism.csv', 'kurtosis_normalized_merged_autism.csv', 'mean_normalized_merged_autism.csv', 'skewness_normalized_merged_autism.csv', 'standard_deviation_normalized_merged_autism.csv', 'variance_normalized_merged_autism.csv']\n"
     ]
    }
   ],
   "source": [
    "extension = 'csv'\n",
    "all_filenames = [i for i in glob.glob('*.{}'.format(extension))]\n",
    "print(all_filenames)"
   ]
  },
  {
   "cell_type": "code",
   "execution_count": 17,
   "id": "buried-conservation",
   "metadata": {},
   "outputs": [],
   "source": [
    "combined_csv = pd.concat([pd.read_csv(f) for f in all_filenames ], axis = 1)\n",
    "#export to csv\n",
    "combined_csv.to_csv( \"final__.csv\", index=False, encoding='utf-8-sig')"
   ]
  },
  {
   "cell_type": "code",
   "execution_count": null,
   "id": "serial-livestock",
   "metadata": {},
   "outputs": [],
   "source": []
  },
  {
   "cell_type": "code",
   "execution_count": null,
   "id": "informal-bearing",
   "metadata": {},
   "outputs": [],
   "source": []
  }
 ],
 "metadata": {
  "kernelspec": {
   "display_name": "Python 3",
   "language": "python",
   "name": "python3"
  },
  "language_info": {
   "codemirror_mode": {
    "name": "ipython",
    "version": 3
   },
   "file_extension": ".py",
   "mimetype": "text/x-python",
   "name": "python",
   "nbconvert_exporter": "python",
   "pygments_lexer": "ipython3",
   "version": "3.6.12"
  }
 },
 "nbformat": 4,
 "nbformat_minor": 5
}
