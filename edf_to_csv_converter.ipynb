{
 "cells": [
  {
   "cell_type": "code",
   "execution_count": 1,
   "metadata": {},
   "outputs": [],
   "source": [
    "import numpy as np\n",
    "import mne\n",
    "import os\n",
    "from os import listdir\n",
    "from os.path import isfile, join\n",
    "mypath = 'feature_files/merge/'\n",
    "files = [f for f in listdir(mypath) if isfile(join(mypath, f))]\n",
    "print(files)\n",
    "\n",
    "\n",
    "file_extension = \".csv\"\n",
    "for file in files:\n",
    "    edf = mne.io.read_raw_edf(\"preprocessed_data/normal/edu/{}\".format(file))\n",
    "    header = ','.join(edf.ch_names)\n",
    "    file_name = os.path.splitext(file)[0]\n",
    "    final_file_name = file_name + file_extension\n",
    "    np.savetxt(\"csv_files/{}\".format(final_file_name), edf.get_data().T, delimiter=',', header=header)\n",
    "\n"
   ]
  },
  {
   "cell_type": "code",
   "execution_count": 2,
   "metadata": {
    "scrolled": true
   },
   "outputs": [],
   "source": [
    "raw = mne.io.read_raw_fif(\"segmented-file-epo.fif\")\n",
    "print(raw)"
   ]
  },
  {
   "cell_type": "code",
   "execution_count": 1,
   "metadata": {
    "scrolled": true
   },
   "outputs": [
    {
     "name": "stdout",
     "output_type": "stream",
     "text": [
      "Opening raw data file feature_files/merged-autism-raw.fif...\n",
      "Isotrak not found\n",
      "    Range : 0 ... 599551 =      0.000 ...  4683.992 secs\n",
      "Ready.\n"
     ]
    }
   ],
   "source": [
    "import numpy as np\n",
    "import mne\n",
    "import os\n",
    "from os import listdir\n",
    "from os.path import isfile, join\n",
    "\n",
    "edf = mne.io.read_raw_fif(\"feature_files/merged-autism-raw.fif\")\n",
    "header = ','.join(edf.ch_names)\n",
    "np.savetxt(\"merged-autism-raw.csv\", edf.get_data().T, delimiter=',', header=header)"
   ]
  },
  {
   "cell_type": "code",
   "execution_count": 3,
   "metadata": {},
   "outputs": [
    {
     "name": "stdout",
     "output_type": "stream",
     "text": [
      "Opening raw data file feature_files/merged-normal-raw.fif...\n",
      "Isotrak not found\n",
      "    Range : 0 ... 417535 =      0.000 ...  3261.992 secs\n",
      "Ready.\n"
     ]
    }
   ],
   "source": [
    "import numpy as np\n",
    "import mne\n",
    "import os\n",
    "from os import listdir\n",
    "from os.path import isfile, join\n",
    "\n",
    "edf = mne.io.read_raw_fif(\"feature_files/merged-normal-raw.fif\")\n",
    "header = ','.join(edf.ch_names)\n",
    "np.savetxt(\"merged-normal-raw.csv\", edf.get_data().T, delimiter=',', header=header)"
   ]
  },
  {
   "cell_type": "code",
   "execution_count": null,
   "metadata": {},
   "outputs": [],
   "source": []
  }
 ],
 "metadata": {
  "kernelspec": {
   "display_name": "Python 3",
   "language": "python",
   "name": "python3"
  },
  "language_info": {
   "codemirror_mode": {
    "name": "ipython",
    "version": 3
   },
   "file_extension": ".py",
   "mimetype": "text/x-python",
   "name": "python",
   "nbconvert_exporter": "python",
   "pygments_lexer": "ipython3",
   "version": "3.8.5"
  }
 },
 "nbformat": 4,
 "nbformat_minor": 5
}
