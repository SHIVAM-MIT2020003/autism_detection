{
 "cells": [
  {
   "cell_type": "markdown",
   "id": "ancient-government",
   "metadata": {},
   "source": [
    "# Building a Traing Set"
   ]
  },
  {
   "cell_type": "code",
   "execution_count": null,
   "id": "eastern-sleeping",
   "metadata": {},
   "outputs": [],
   "source": [
    "import csv\n",
    "\n",
    "with open('C:/Users/lloll/OneDrive/Desktop/ASD detection/feature_files/autism_feature_files/all_features_autism.csv','r') as csvinput:\n",
    "    with open('C:/Users/lloll/OneDrive/Desktop/ASD detection/feature_files/autism_feature_files/final_autism.csv', 'w') as csvoutput:\n",
    "        writer = csv.writer(csvoutput, lineterminator='\\n')\n",
    "        reader = csv.reader(csvinput)\n",
    "\n",
    "        all = []\n",
    "        row = next(reader)\n",
    "        row.append('class')\n",
    "        all.append(row)\n",
    "\n",
    "        for row in reader:\n",
    "            row.append(1)\n",
    "            all.append(row)\n",
    "\n",
    "        writer.writerows(all)"
   ]
  },
  {
   "cell_type": "code",
   "execution_count": null,
   "id": "amino-sentence",
   "metadata": {},
   "outputs": [],
   "source": [
    "import csv\n",
    "\n",
    "with open('C:/Users/lloll/OneDrive/Desktop/ASD detection/feature_files/normal_feature_files/all_features_normal.csv','r') as csvinput:\n",
    "    with open('C:/Users/lloll/OneDrive/Desktop/ASD detection/feature_files/normal_feature_files/final_normal.csv', 'w') as csvoutput:\n",
    "        writer = csv.writer(csvoutput, lineterminator='\\n')\n",
    "        reader = csv.reader(csvinput)\n",
    "\n",
    "        all = []\n",
    "        row = next(reader)\n",
    "        row.append('class')\n",
    "        all.append(row)\n",
    "\n",
    "        for row in reader:\n",
    "            row.append(0)\n",
    "            all.append(row)\n",
    "\n",
    "        writer.writerows(all)"
   ]
  },
  {
   "cell_type": "code",
   "execution_count": null,
   "id": "aggressive-order",
   "metadata": {},
   "outputs": [],
   "source": [
    "import os\n",
    "import glob\n",
    "import pandas as pd\n",
    "os.chdir(\"C:/Users/lloll/OneDrive/Desktop/ASD detection/feature_files/final\")"
   ]
  },
  {
   "cell_type": "code",
   "execution_count": null,
   "id": "tracked-samba",
   "metadata": {},
   "outputs": [],
   "source": [
    "extension = 'csv'\n",
    "all_filenames = [i for i in glob.glob('*.{}'.format(extension))]\n",
    "print(all_filenames)"
   ]
  },
  {
   "cell_type": "code",
   "execution_count": null,
   "id": "starting-seventh",
   "metadata": {},
   "outputs": [],
   "source": [
    "combined_csv = pd.concat([pd.read_csv(f) for f in all_filenames ], axis = 0)\n",
    "combined_csv.to_csv( \"training_set.csv\", index=False, encoding='utf-8-sig')"
   ]
  },
  {
   "cell_type": "code",
   "execution_count": null,
   "id": "union-handling",
   "metadata": {},
   "outputs": [],
   "source": []
  }
 ],
 "metadata": {
  "kernelspec": {
   "display_name": "Python 3",
   "language": "python",
   "name": "python3"
  },
  "language_info": {
   "codemirror_mode": {
    "name": "ipython",
    "version": 3
   },
   "file_extension": ".py",
   "mimetype": "text/x-python",
   "name": "python",
   "nbconvert_exporter": "python",
   "pygments_lexer": "ipython3",
   "version": "3.6.12"
  }
 },
 "nbformat": 4,
 "nbformat_minor": 5
}
